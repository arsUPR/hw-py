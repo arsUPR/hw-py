{
 "cells": [
  {
   "cell_type": "markdown",
   "metadata": {},
   "source": [
    "Задание 1Напишите функцию, извлекающую корень n-й степени из числа x. По умолчанию def будет извлекать квадратный корень:"
   ]
  },
  {
   "cell_type": "code",
   "execution_count": null,
   "metadata": {},
   "outputs": [
    {
     "name": "stdout",
     "output_type": "stream",
     "text": [
      "5.0\n"
     ]
    }
   ],
   "source": [
    "x = int(input())\n",
    "n = int(input())\n",
    "\n",
    "def korn(x,n):\n",
    "    if x < 0 or n <= 0:\n",
    "        return None\n",
    "    else:\n",
    "        return x**(1/n)\n",
    "\n",
    "print(korn(x,n))"
   ]
  },
  {
   "cell_type": "markdown",
   "metadata": {},
   "source": [
    "Задание 2 Перепишите ваш код для проверки расширения из прошлого ДЗ в функцию которая принимает список расширений и имя файла"
   ]
  },
  {
   "cell_type": "code",
   "execution_count": null,
   "metadata": {},
   "outputs": [
    {
     "name": "stdout",
     "output_type": "stream",
     "text": [
      "Файл 'Моя диссертац.gif' имеет допустимое расширение: 'gif'\n"
     ]
    }
   ],
   "source": [
    "file = 'Моя диссертац.gif'\n",
    "extensions = ['png', 'jpg', 'jpeg', 'gif', 'svg']\n",
    "\n",
    "def defin_file(file,extensions):\n",
    "    file_extension = file.split('.')[-1] \n",
    "\n",
    "    if file_extension in extensions:\n",
    "        print(f\"Файл '{file}' имеет допустимое расширение: '{file_extension}'\")\n",
    "    else:\n",
    "        print(f\"Файл '{file}' имеет недопустимое расширение: '{file_extension}'\")\n",
    "\n",
    "defin_file(file,extensions)"
   ]
  },
  {
   "cell_type": "markdown",
   "metadata": {},
   "source": [
    "Задание 3 Слейте воедино три словаря"
   ]
  },
  {
   "cell_type": "code",
   "execution_count": null,
   "metadata": {},
   "outputs": [
    {
     "name": "stdout",
     "output_type": "stream",
     "text": [
      "{1: 10, 2: 20, 3: 30, 4: 40, 5: 50, 6: 60}\n",
      "{1: 10, 2: 20, 3: 30, 4: 40, 5: 50, 6: 60}\n"
     ]
    }
   ],
   "source": [
    "dict1 = {1:10, 2:20}\n",
    "dict2= {3:30, 4:40}\n",
    "dict3 = {5:50, 6:60}\n",
    "\n",
    "merged_dict = dict1 | dict2 | dict3\n",
    "print(merged_dict)\n",
    "\n",
    "# ИЛИ \n",
    "\n",
    "merged_dict = dict1.copy()  \n",
    "merged_dict.update(dict2)    \n",
    "merged_dict.update(dict3)   \n",
    "\n",
    "print(merged_dict)"
   ]
  },
  {
   "cell_type": "markdown",
   "metadata": {},
   "source": [
    "Задане 4 Напишите функцию которая будет складывать цифры внутри числа\n"
   ]
  },
  {
   "cell_type": "code",
   "execution_count": 8,
   "metadata": {},
   "outputs": [
    {
     "name": "stdout",
     "output_type": "stream",
     "text": [
      "6\n"
     ]
    }
   ],
   "source": [
    "def sum_num(a):\n",
    "    d = list(str(a))\n",
    "    s = 0\n",
    "    for i in d:\n",
    "        s += int(i)\n",
    "    return s\n",
    "\n",
    "print(sum_num(123))"
   ]
  },
  {
   "cell_type": "markdown",
   "metadata": {},
   "source": [
    "Задание 5 Нужно проверить, все ли числа в последовательности уникальны.\n"
   ]
  },
  {
   "cell_type": "code",
   "execution_count": 10,
   "metadata": {},
   "outputs": [
    {
     "name": "stdout",
     "output_type": "stream",
     "text": [
      "False\n"
     ]
    }
   ],
   "source": [
    "def are_numbers_unique(numbers):\n",
    "    return len(numbers) == len(set(numbers))\n",
    "\n",
    "numbers = [1, 2, 2, 4, 5]\n",
    "print(are_numbers_unique(numbers)) "
   ]
  },
  {
   "cell_type": "markdown",
   "metadata": {},
   "source": [
    "Задание 6.Создать функцию, которая просто печатает все элементы заданного ей списка:\n"
   ]
  },
  {
   "cell_type": "code",
   "execution_count": 13,
   "metadata": {},
   "outputs": [
    {
     "name": "stdout",
     "output_type": "stream",
     "text": [
      "НОМЕР 0 --> я\n",
      "НОМЕР 1 --> не\n",
      "НОМЕР 2 --> в\n",
      "НОМЕР 3 --> отпуск\n"
     ]
    }
   ],
   "source": [
    "def print_list(my_list):\n",
    "    i = 0 \n",
    "    while i < len(my_list):  \n",
    "        print(f\"НОМЕР {i} --> {my_list[i]}\")  \n",
    "        i += 1  \n",
    "\n",
    "print_list([\"я\", \"не\", \"в\", \"отпуск\"])"
   ]
  },
  {
   "cell_type": "code",
   "execution_count": 14,
   "metadata": {},
   "outputs": [
    {
     "name": "stdout",
     "output_type": "stream",
     "text": [
      "КЛЮЧ <<key1>> --> 2\n",
      "КЛЮЧ <<key3>> --> False\n",
      "КЛЮЧ <<Приветствие>> --> Hello\n"
     ]
    }
   ],
   "source": [
    "def print_dict(my_dict):\n",
    "    for key, value in my_dict.items():\n",
    "        print(f\"КЛЮЧ <<{key}>> --> {value}\")  \n",
    "\n",
    "\n",
    "print_dict({\"key1\": 2, \"key3\": False, \"Приветствие\": \"Hello\"})"
   ]
  },
  {
   "cell_type": "code",
   "execution_count": null,
   "metadata": {},
   "outputs": [
    {
     "name": "stdout",
     "output_type": "stream",
     "text": [
      "1\n",
      "НОМЕР 0 --> 1\n",
      "НОМЕР 1 --> 2\n",
      "НОМЕР 2 --> 3\n",
      "НОМЕР 3 --> 4\n",
      "Hello\n",
      "КЛЮЧ <<ciao>> --> Mondo\n",
      "КЛЮЧ <<Привет>> --> О дивный мир\n"
     ]
    }
   ],
   "source": [
    "def print_overlord(mydict):\n",
    "    for value in mydict.values(): \n",
    "        if isinstance(value, list):  # Если значение является списком\n",
    "            print_list(value) \n",
    "        elif isinstance(value, dict):  # Если значение является словарем\n",
    "            print_dict(value)\n",
    "        else: \n",
    "            print(value)\n",
    "\n",
    "print_overlord(dict(key1=1,\n",
    "                    key2=[1, 2, 3, 4], \n",
    "                    key3='Hello', \n",
    "                    key4={\"ciao\": \"Mondo\", \"Привет\": \"О дивный мир\"}))"
   ]
  }
 ],
 "metadata": {
  "kernelspec": {
   "display_name": "Python 3",
   "language": "python",
   "name": "python3"
  },
  "language_info": {
   "codemirror_mode": {
    "name": "ipython",
    "version": 3
   },
   "file_extension": ".py",
   "mimetype": "text/x-python",
   "name": "python",
   "nbconvert_exporter": "python",
   "pygments_lexer": "ipython3",
   "version": "3.10.0"
  }
 },
 "nbformat": 4,
 "nbformat_minor": 2
}
