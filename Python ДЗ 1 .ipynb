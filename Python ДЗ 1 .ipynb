{
 "cells": [
  {
   "cell_type": "markdown",
   "metadata": {},
   "source": [
    "Задание 1: Сделайте так, чтобы число секунд отображалось в виде дни:часы:минуты:секунды."
   ]
  },
  {
   "cell_type": "code",
   "execution_count": 27,
   "metadata": {},
   "outputs": [
    {
     "name": "stdout",
     "output_type": "stream",
     "text": [
      "1 1 0 0\n"
     ]
    }
   ],
   "source": [
    "seconds=61\n",
    "minutes = 0\n",
    "hours = 0\n",
    "days = 0\n",
    "\n",
    "# days\n",
    "if seconds / 60 / 60 / 24 >= 1:\n",
    "    days = (seconds // 60 // 60) // 24\n",
    "    seconds -= days * 24 * 60 * 60\n",
    "\n",
    "# hours\n",
    "if seconds / 60 / 60  >= 1:\n",
    "    hours = seconds // 60 // 60\n",
    "    seconds -= hours * 60 * 60\n",
    "\n",
    "# minutes\n",
    "if seconds / 60  >= 1:\n",
    "    minutes = seconds // 60 \n",
    "    seconds -= minutes * 60 \n",
    " \n",
    "\n",
    "\n",
    "print(seconds, minutes,hours,days)\n",
    "\n"
   ]
  },
  {
   "cell_type": "markdown",
   "metadata": {},
   "source": [
    "Задание 2 Напишите калькулятор который запрашивает на входе две переменные и знак, и в соответствии с знаком ( + - * / ) выводит результат\n"
   ]
  },
  {
   "cell_type": "code",
   "execution_count": 1,
   "metadata": {},
   "outputs": [
    {
     "name": "stdout",
     "output_type": "stream",
     "text": [
      "1530.0\n"
     ]
    }
   ],
   "source": [
    "a = float(input())\n",
    "b = float(input())\n",
    "\n",
    "c = input()\n",
    "\n",
    "if c == '*':\n",
    "    print(a*b)\n",
    "elif c == '/':\n",
    "    print(a/b)\n",
    "elif c == '+':\n",
    "    print(a+b)\n",
    "else:\n",
    "    print(a-b)"
   ]
  },
  {
   "cell_type": "markdown",
   "metadata": {},
   "source": [
    "Задание 3 Считайте 2 строки и выведите их на печать, разделив символом $.\n",
    "Попробуйте решить эту задачу как минимум 2 способами:\n",
    "\n",
    "1 с помощью конкатенации строк\n",
    "2 с помощью указания разделителя в параметре sep метода print"
   ]
  },
  {
   "cell_type": "code",
   "execution_count": 2,
   "metadata": {},
   "outputs": [
    {
     "name": "stdout",
     "output_type": "stream",
     "text": [
      "dfgsertgerstg$gergbcbcvzxvzcx\n",
      "dfgsertgerstg$gergbcbcvzxvzcx\n"
     ]
    }
   ],
   "source": [
    "a = input()\n",
    "b = input()\n",
    "\n",
    "print(a+'$'+b)\n",
    "print(a,b,sep='$')"
   ]
  },
  {
   "cell_type": "markdown",
   "metadata": {},
   "source": [
    "Задание 4 Напишите поздравление с Днем рождения, где программа считает имя и возраст и выведет поздравление столько раз, сколько лет именнинику"
   ]
  },
  {
   "cell_type": "code",
   "execution_count": null,
   "metadata": {},
   "outputs": [
    {
     "name": "stdout",
     "output_type": "stream",
     "text": [
      "Способ 1\n",
      " С днем рождения, Арсений!  С днем рождения, Арсений!  С днем рождения, Арсений!  С днем рождения, Арсений!  С днем рождения, Арсений!  С днем рождения, Арсений!  С днем рождения, Арсений!  С днем рождения, Арсений!  С днем рождения, Арсений!  С днем рождения, Арсений!  С днем рождения, Арсений!  С днем рождения, Арсений!  С днем рождения, Арсений!  С днем рождения, Арсений!  С днем рождения, Арсений!  С днем рождения, Арсений!  С днем рождения, Арсений!  С днем рождения, Арсений!  С днем рождения, Арсений!  С днем рождения, Арсений!  С днем рождения, Арсений!  С днем рождения, Арсений! \n",
      "\n",
      "\n",
      "Способ 2\n",
      "С днем рождения, Арсений\n",
      "С днем рождения, Арсений\n",
      "С днем рождения, Арсений\n",
      "С днем рождения, Арсений\n",
      "С днем рождения, Арсений\n",
      "С днем рождения, Арсений\n",
      "С днем рождения, Арсений\n",
      "С днем рождения, Арсений\n",
      "С днем рождения, Арсений\n",
      "С днем рождения, Арсений\n",
      "С днем рождения, Арсений\n",
      "С днем рождения, Арсений\n",
      "С днем рождения, Арсений\n",
      "С днем рождения, Арсений\n",
      "С днем рождения, Арсений\n",
      "С днем рождения, Арсений\n",
      "С днем рождения, Арсений\n",
      "С днем рождения, Арсений\n",
      "С днем рождения, Арсений\n",
      "С днем рождения, Арсений\n",
      "С днем рождения, Арсений\n",
      "С днем рождения, Арсений\n"
     ]
    }
   ],
   "source": [
    "a = input()\n",
    "b = int(input())\n",
    "\n",
    "print('Способ 1')\n",
    "print(f\" С днем рождения, {a}! \"*b)\n",
    "print('\\n\\nСпособ 2')\n",
    "for i in range(b):\n",
    "    print(f\"С днем рождения, {a}\")"
   ]
  }
 ],
 "metadata": {
  "kernelspec": {
   "display_name": "Python 3",
   "language": "python",
   "name": "python3"
  },
  "language_info": {
   "codemirror_mode": {
    "name": "ipython",
    "version": 3
   },
   "file_extension": ".py",
   "mimetype": "text/x-python",
   "name": "python",
   "nbconvert_exporter": "python",
   "pygments_lexer": "ipython3",
   "version": "3.10.0"
  }
 },
 "nbformat": 4,
 "nbformat_minor": 2
}
